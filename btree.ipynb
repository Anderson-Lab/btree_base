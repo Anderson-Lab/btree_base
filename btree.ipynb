{
 "cells": [
  {
   "cell_type": "markdown",
   "metadata": {},
   "source": [
    "# BTree Assignment\n",
    "\n",
    "## Overview\n",
    "The purpose of this assignment is to write a pure Python implementation of a Btree and thus become familiar with the implementations details of the B-Tree. Below are the classes you will fill out."
   ]
  },
  {
   "cell_type": "code",
   "execution_count": 23,
   "metadata": {},
   "outputs": [],
   "source": [
    "class BNode:\n",
    "    # notes: http://book.pythontips.com/en/latest/__slots__magic.html\n",
    "    __slots__ = [\"tree\", \"contents\", \"children\"]\n",
    "\n",
    "    def __init__(self, tree, contents=None, children=None):\n",
    "        pass\n",
    "\n",
    "class BTree:\n",
    "    def __init__(self,order):\n",
    "        pass\n",
    "    \n",
    "    def insert(self, item):\n",
    "        \"\"\"Insert item into the tree. No return.\"\"\"\n",
    "        pass\n",
    "    \n",
    "    def remove(self,item):\n",
    "        \"\"\"Remove item from the tree. No return.\"\"\"\n",
    "        pass\n",
    "    \n",
    "    def __iter__(self):\n",
    "        # notes: https://stackoverflow.com/questions/4019971/how-to-implement-iter-self-for-a-container-object-python\n",
    "        yield BNode(self)\n",
    "        \n",
    "    def __contains__(self, item):\n",
    "        \"\"\"Returns true or false if item is in the tree\"\"\"\n",
    "        \n",
    "    @classmethod\n",
    "    def bulkload(cls, items, order):\n",
    "        \"\"\"Performs a bulk load of items and returns a BTree object\"\"\"\n",
    "        return BTree(order)"
   ]
  },
  {
   "cell_type": "markdown",
   "metadata": {},
   "source": [
    "## Here is the unit test that we'll use to verify your tree"
   ]
  },
  {
   "cell_type": "code",
   "execution_count": 24,
   "metadata": {},
   "outputs": [],
   "source": [
    "import unittest\n",
    "import random\n",
    "\n",
    "class BTreeTests(unittest.TestCase):\n",
    "    def test_additions(self):\n",
    "        bt = BTree(20)\n",
    "        l = list(range(2000))\n",
    "        for i, item in enumerate(l):\n",
    "            bt.insert(item)\n",
    "            self.assertEqual(list(bt), l[:i + 1])\n",
    "\n",
    "    def test_bulkloads(self):\n",
    "        bt = BTree.bulkload(list(range(2000)), 20)\n",
    "        self.assertEqual(list(bt), list(range(2000)))\n",
    "\n",
    "    def test_removals(self):\n",
    "        bt = BTree(20)\n",
    "        l = list(range(2000))\n",
    "        list(map(bt.insert, l))\n",
    "        rand = l[:]\n",
    "        random.shuffle(rand)\n",
    "        while l:\n",
    "            self.assertEqual(list(bt), l)\n",
    "            rem = rand.pop()\n",
    "            l.remove(rem)\n",
    "            bt.remove(rem)\n",
    "        self.assertEqual(list(bt), l)\n",
    "\n",
    "    def test_insert_regression(self):\n",
    "        bt = BTree.bulkload(list(range(2000)), 50)\n",
    "\n",
    "        for i in range(100000):\n",
    "            bt.insert(random.randrange(2000))"
   ]
  },
  {
   "cell_type": "code",
   "execution_count": 27,
   "metadata": {},
   "outputs": [
    {
     "name": "stderr",
     "output_type": "stream",
     "text": [
      "FF.F\n",
      "======================================================================\n",
      "FAIL: test_additions (__main__.BTreeTests)\n",
      "----------------------------------------------------------------------\n",
      "Traceback (most recent call last):\n",
      "  File \"<ipython-input-24-12127118887a>\", line 10, in test_additions\n",
      "    self.assertEqual(list(bt), l[:i + 1])\n",
      "AssertionError: Lists differ: [<__main__._BNode object at 0x7fa0dce4f408>] != [0]\n",
      "\n",
      "First differing element 0:\n",
      "<__main__._BNode object at 0x7fa0dce4f408>\n",
      "0\n",
      "\n",
      "- [<__main__._BNode object at 0x7fa0dce4f408>]\n",
      "+ [0]\n",
      "\n",
      "======================================================================\n",
      "FAIL: test_bulkloads (__main__.BTreeTests)\n",
      "----------------------------------------------------------------------\n",
      "Traceback (most recent call last):\n",
      "  File \"<ipython-input-24-12127118887a>\", line 14, in test_bulkloads\n",
      "    self.assertEqual(list(bt), list(range(2000)))\n",
      "AssertionError: Lists differ: [<__main__._BNode object at 0x7fa0dce4f148>] != [0, 1, 2, 3, 4, 5, 6, 7, 8, 9, 10, 11, 12,[10843 chars]1999]\n",
      "\n",
      "First differing element 0:\n",
      "<__main__._BNode object at 0x7fa0dce4f148>\n",
      "0\n",
      "\n",
      "Second list contains 1999 additional elements.\n",
      "First extra element 1:\n",
      "1\n",
      "\n",
      "Diff is 16937 characters long. Set self.maxDiff to None to see it.\n",
      "\n",
      "======================================================================\n",
      "FAIL: test_removals (__main__.BTreeTests)\n",
      "----------------------------------------------------------------------\n",
      "Traceback (most recent call last):\n",
      "  File \"<ipython-input-24-12127118887a>\", line 23, in test_removals\n",
      "    self.assertEqual(list(bt), l)\n",
      "AssertionError: Lists differ: [<__main__._BNode object at 0x7fa0dce31c08>] != [0, 1, 2, 3, 4, 5, 6, 7, 8, 9, 10, 11, 12,[10843 chars]1999]\n",
      "\n",
      "First differing element 0:\n",
      "<__main__._BNode object at 0x7fa0dce31c08>\n",
      "0\n",
      "\n",
      "Second list contains 1999 additional elements.\n",
      "First extra element 1:\n",
      "1\n",
      "\n",
      "Diff is 16937 characters long. Set self.maxDiff to None to see it.\n",
      "\n",
      "----------------------------------------------------------------------\n",
      "Ran 4 tests in 0.644s\n",
      "\n",
      "FAILED (failures=3)\n"
     ]
    }
   ],
   "source": [
    "NOTEBOOK=True\n",
    "if NOTEBOOK:\n",
    "    unittest.main(argv=['first-arg-is-ignored'], exit=False)\n",
    "else: # if you are running this from the command line in a .py file, then just run\n",
    "    unittest.main()"
   ]
  },
  {
   "cell_type": "markdown",
   "metadata": {},
   "source": [
    "## Task\n",
    "Your task is to implement a B-Tree using the above class and method stubs. Each day new progress should be made with a final complete solution turned in on Friday.\n"
   ]
  },
  {
   "cell_type": "code",
   "execution_count": null,
   "metadata": {},
   "outputs": [],
   "source": []
  }
 ],
 "metadata": {
  "kernelspec": {
   "display_name": "Python 3.6",
   "language": "python",
   "name": "python3.6"
  },
  "language_info": {
   "codemirror_mode": {
    "name": "ipython",
    "version": 3
   },
   "file_extension": ".py",
   "mimetype": "text/x-python",
   "name": "python",
   "nbconvert_exporter": "python",
   "pygments_lexer": "ipython3",
   "version": "3.6.5"
  }
 },
 "nbformat": 4,
 "nbformat_minor": 2
}
